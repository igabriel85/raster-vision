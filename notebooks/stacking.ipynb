{
 "cells": [
  {
   "cell_type": "code",
   "execution_count": 19,
   "metadata": {
    "collapsed": true
   },
   "outputs": [],
   "source": [
    "run_names = [\n",
    "    'tagging/7_11_17/dense_ensemble2/0',\n",
    "    'tagging/7_11_17/dense_ensemble2/1',\n",
    "    'tagging/7_11_17/dense_ensemble2/2',\n",
    "    'tagging/7_11_17/dense_ensemble2/3',\n",
    "    'tagging/7_11_17/dense_ensemble2/4'\n",
    "]\n",
    "\n",
    "train_probs_fn = 'train_probs.npy'\n",
    "train_preds_fn = 'train_preds.csv'\n",
    "\n",
    "val_probs_fn = 'validation_probs.npy'\n",
    "val_preds_fn = 'validation_preds.csv'\n",
    "\n",
    "s3_bucket = 'raster-vision'"
   ]
  },
  {
   "cell_type": "code",
   "execution_count": 20,
   "metadata": {
    "collapsed": true
   },
   "outputs": [],
   "source": [
    "from os.path import join\n",
    "\n",
    "import boto3\n",
    "from botocore.exceptions import ClientError\n",
    "\n",
    "from rastervision.common.settings import results_path\n",
    "from rastervision.common.utils import _makedirs\n",
    "\n",
    "def s3_download(run_name, file_name, new_file_name=None):\n",
    "    if new_file_name is None:\n",
    "        new_file_name = file_name\n",
    "    s3_key = 'results/{}/{}'.format(run_name, file_name)\n",
    "    run_path = join('/opt/data/results/', run_name, new_file_name)\n",
    "    s3 = boto3.resource('s3')\n",
    "    s3.Bucket(s3_bucket).download_file(s3_key, run_path)\n",
    "    \n",
    "def download_run(run_name):\n",
    "    s3_download(run_name, train_probs_fn)\n",
    "    s3_download(run_name, train_preds_fn)\n",
    "    \n",
    "    s3_download(run_name, val_probs_fn)\n",
    "    s3_download(run_name, val_preds_fn)"
   ]
  },
  {
   "cell_type": "code",
   "execution_count": 21,
   "metadata": {},
   "outputs": [],
   "source": [
    "for run_name in run_names:\n",
    "    print(run_name)\n",
    "    download_run(run_name)"
   ]
  },
  {
   "cell_type": "code",
   "execution_count": 31,
   "metadata": {},
   "outputs": [
    {
     "name": "stdout",
     "output_type": "stream",
     "text": [
      "(32383, 85)\n",
      "(8096, 85)\n"
     ]
    }
   ],
   "source": [
    "import numpy as np\n",
    "\n",
    "train_probs = []\n",
    "val_probs = []\n",
    "for run_name in run_names:\n",
    "    run_path = join('/opt/data/results/', run_name)\n",
    "    train_probs_path = join(run_path, train_probs_fn)\n",
    "    train_probs.append(np.load(train_probs_path))\n",
    "        \n",
    "    val_probs_path = join(run_path, val_probs_fn)\n",
    "    val_probs.append(np.load(val_probs_path))\n",
    "    \n",
    "all_train_probs = np.concatenate(train_probs, axis=1)\n",
    "all_val_probs = np.concatenate(val_probs, axis=1)\n",
    "print(all_train_probs.shape)\n",
    "print(all_val_probs.shape)"
   ]
  },
  {
   "cell_type": "code",
   "execution_count": 33,
   "metadata": {},
   "outputs": [],
   "source": [
    "from rastervision.tagging.data.planet_kaggle import TagStore\n",
    "\n",
    "gt_csv_path = '/opt/data/datasets/planet_kaggle/train_v2.csv'\n",
    "gt_tag_store = TagStore(gt_csv_path)\n",
    "\n",
    "train_file_inds = TagStore('/opt/data/results/tagging/7_11_17/dense_ensemble2/0/train_preds.csv').file_ind_to_tags.keys()\n",
    "gt_train_preds = gt_tag_store.get_tag_array(train_file_inds)\n",
    "\n",
    "val_file_inds = TagStore('/opt/data/results/tagging/7_11_17/dense_ensemble2/0/validation_preds.csv').file_ind_to_tags.keys()\n",
    "gt_val_preds = gt_tag_store.get_tag_array(val_file_inds)"
   ]
  },
  {
   "cell_type": "code",
   "execution_count": 37,
   "metadata": {
    "collapsed": true
   },
   "outputs": [],
   "source": [
    "import numpy as np\n",
    "from numpy import loadtxt\n",
    "from xgboost import XGBClassifier\n",
    "from sklearn.model_selection import train_test_split\n",
    "from sklearn.metrics import accuracy_score\n",
    "from sklearn.multioutput import MultiOutputClassifier"
   ]
  },
  {
   "cell_type": "code",
   "execution_count": null,
   "metadata": {
    "collapsed": true
   },
   "outputs": [],
   "source": []
  },
  {
   "cell_type": "code",
   "execution_count": 47,
   "metadata": {},
   "outputs": [
    {
     "name": "stdout",
     "output_type": "stream",
     "text": [
      "[0]\tvalidation_0-error:0.180089\n",
      "Will train until validation_0-error hasn't improved in 10 rounds.\n",
      "[1]\tvalidation_0-error:0.179842\n",
      "[2]\tvalidation_0-error:0.179471\n",
      "[3]\tvalidation_0-error:0.179471\n",
      "[4]\tvalidation_0-error:0.179471\n",
      "[5]\tvalidation_0-error:0.179471\n",
      "[6]\tvalidation_0-error:0.179471\n",
      "[7]\tvalidation_0-error:0.179348\n",
      "[8]\tvalidation_0-error:0.179348\n",
      "[9]\tvalidation_0-error:0.179348\n",
      "[10]\tvalidation_0-error:0.179348\n",
      "[11]\tvalidation_0-error:0.179348\n",
      "[12]\tvalidation_0-error:0.179348\n",
      "[13]\tvalidation_0-error:0.179348\n",
      "[14]\tvalidation_0-error:0.179348\n",
      "[15]\tvalidation_0-error:0.179348\n",
      "[16]\tvalidation_0-error:0.179348\n",
      "[17]\tvalidation_0-error:0.179348\n",
      "Stopping. Best iteration:\n",
      "[7]\tvalidation_0-error:0.179348\n",
      "\n"
     ]
    },
    {
     "data": {
      "text/plain": [
       "XGBClassifier(base_score=0.5, booster='gbtree', colsample_bylevel=1,\n",
       "       colsample_bytree=1, gamma=0, learning_rate=0.1, max_delta_step=0,\n",
       "       max_depth=3, min_child_weight=1, missing=None, n_estimators=100,\n",
       "       n_jobs=1, nthread=None, objective='binary:logistic', random_state=0,\n",
       "       reg_alpha=0, reg_lambda=1, scale_pos_weight=1, seed=None,\n",
       "       silent=True, subsample=1)"
      ]
     },
     "execution_count": 47,
     "metadata": {},
     "output_type": "execute_result"
    }
   ],
   "source": [
    "# fit model no training data\n",
    "model = XGBClassifier()\n",
    "# multi_model = MultiOutputClassifier(model, n_jobs=1)\n",
    "# eval_set=[(all_val_probs, gt_val_preds)], eval_metric='error', early_stopping_rounds=10,\n",
    "tag_ind = 16\n",
    "model.fit(all_train_probs, gt_train_preds[:, tag_ind], eval_set=[(all_val_probs, gt_val_preds[:, tag_ind])], eval_metric='error', early_stopping_rounds=10, verbose=True)"
   ]
  },
  {
   "cell_type": "code",
   "execution_count": 26,
   "metadata": {},
   "outputs": [
    {
     "name": "stdout",
     "output_type": "stream",
     "text": [
      "Accuracy: 80.73%\n"
     ]
    }
   ],
   "source": [
    "# make predictions for test data\n",
    "y_pred = model.predict(X_test)\n",
    "# predictions = [round(value) for value in y_pred]\n",
    "predictions = np.round(y_pred)\n",
    "# evaluate predictions\n",
    "accuracy = accuracy_score(y_test, predictions)\n",
    "print(\"Accuracy: %.2f%%\" % (accuracy * 100.0))"
   ]
  },
  {
   "cell_type": "code",
   "execution_count": null,
   "metadata": {
    "collapsed": true
   },
   "outputs": [],
   "source": []
  }
 ],
 "metadata": {
  "kernelspec": {
   "display_name": "Python 3",
   "language": "python",
   "name": "python3"
  },
  "language_info": {
   "codemirror_mode": {
    "name": "ipython",
    "version": 3
   },
   "file_extension": ".py",
   "mimetype": "text/x-python",
   "name": "python",
   "nbconvert_exporter": "python",
   "pygments_lexer": "ipython3",
   "version": "3.5.1"
  }
 },
 "nbformat": 4,
 "nbformat_minor": 2
}
