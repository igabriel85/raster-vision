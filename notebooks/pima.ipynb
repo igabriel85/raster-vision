{
 "cells": [
  {
   "cell_type": "code",
   "execution_count": 16,
   "metadata": {},
   "outputs": [],
   "source": [
    "# First XGBoost model for Pima Indians dataset\n",
    "import numpy as np\n",
    "from numpy import loadtxt\n",
    "from xgboost import XGBClassifier\n",
    "from sklearn.model_selection import train_test_split\n",
    "from sklearn.metrics import accuracy_score\n",
    "# load data\n",
    "dataset = loadtxt('/opt/data/jupyter/pima-indians-diabetes.csv', delimiter=\",\")\n",
    "# split data into X and y\n",
    "X = dataset[:,0:8]\n",
    "Y = dataset[:,8]\n",
    "# split data into train and test sets\n",
    "seed = 7\n",
    "test_size = 0.25\n",
    "X_dev, X_test, y_dev, y_test = train_test_split(X, Y, test_size=test_size, random_state=seed)\n",
    "X_train, X_val, y_train, y_val = train_test_split(X_dev, y_dev, test_size=test_size, random_state=seed)"
   ]
  },
  {
   "cell_type": "code",
   "execution_count": 25,
   "metadata": {},
   "outputs": [
    {
     "name": "stdout",
     "output_type": "stream",
     "text": [
      "[0]\tvalidation_0-error:0.305556\n",
      "Will train until validation_0-error hasn't improved in 10 rounds.\n",
      "[1]\tvalidation_0-error:0.291667\n",
      "[2]\tvalidation_0-error:0.291667\n",
      "[3]\tvalidation_0-error:0.291667\n",
      "[4]\tvalidation_0-error:0.298611\n",
      "[5]\tvalidation_0-error:0.291667\n",
      "[6]\tvalidation_0-error:0.298611\n",
      "[7]\tvalidation_0-error:0.298611\n",
      "[8]\tvalidation_0-error:0.263889\n",
      "[9]\tvalidation_0-error:0.256944\n",
      "[10]\tvalidation_0-error:0.256944\n",
      "[11]\tvalidation_0-error:0.263889\n",
      "[12]\tvalidation_0-error:0.256944\n",
      "[13]\tvalidation_0-error:0.256944\n",
      "[14]\tvalidation_0-error:0.256944\n",
      "[15]\tvalidation_0-error:0.263889\n",
      "[16]\tvalidation_0-error:0.263889\n",
      "[17]\tvalidation_0-error:0.270833\n",
      "[18]\tvalidation_0-error:0.263889\n",
      "[19]\tvalidation_0-error:0.25\n",
      "[20]\tvalidation_0-error:0.25\n",
      "[21]\tvalidation_0-error:0.243056\n",
      "[22]\tvalidation_0-error:0.263889\n",
      "[23]\tvalidation_0-error:0.263889\n",
      "[24]\tvalidation_0-error:0.256944\n",
      "[25]\tvalidation_0-error:0.277778\n",
      "[26]\tvalidation_0-error:0.256944\n",
      "[27]\tvalidation_0-error:0.277778\n",
      "[28]\tvalidation_0-error:0.256944\n",
      "[29]\tvalidation_0-error:0.263889\n",
      "[30]\tvalidation_0-error:0.256944\n",
      "[31]\tvalidation_0-error:0.263889\n",
      "Stopping. Best iteration:\n",
      "[21]\tvalidation_0-error:0.243056\n",
      "\n"
     ]
    },
    {
     "data": {
      "text/plain": [
       "XGBClassifier(base_score=0.5, booster='gbtree', colsample_bylevel=1,\n",
       "       colsample_bytree=1, gamma=0, learning_rate=0.1, max_delta_step=0,\n",
       "       max_depth=3, min_child_weight=1, missing=None, n_estimators=100,\n",
       "       n_jobs=1, nthread=None, objective='binary:logistic', random_state=0,\n",
       "       reg_alpha=0, reg_lambda=1, scale_pos_weight=1, seed=None,\n",
       "       silent=True, subsample=1)"
      ]
     },
     "execution_count": 25,
     "metadata": {},
     "output_type": "execute_result"
    }
   ],
   "source": [
    "# fit model no training data\n",
    "model = XGBClassifier()\n",
    "model.fit(X_train, y_train, eval_set=[(X_val, y_val)], eval_metric='error', early_stopping_rounds=10, verbose=True)"
   ]
  },
  {
   "cell_type": "code",
   "execution_count": 26,
   "metadata": {},
   "outputs": [
    {
     "name": "stdout",
     "output_type": "stream",
     "text": [
      "Accuracy: 80.73%\n"
     ]
    }
   ],
   "source": [
    "# make predictions for test data\n",
    "y_pred = model.predict(X_test)\n",
    "# predictions = [round(value) for value in y_pred]\n",
    "predictions = np.round(y_pred)\n",
    "# evaluate predictions\n",
    "accuracy = accuracy_score(y_test, predictions)\n",
    "print(\"Accuracy: %.2f%%\" % (accuracy * 100.0))"
   ]
  },
  {
   "cell_type": "code",
   "execution_count": null,
   "metadata": {
    "collapsed": true
   },
   "outputs": [],
   "source": []
  }
 ],
 "metadata": {
  "kernelspec": {
   "display_name": "Python 3",
   "language": "python",
   "name": "python3"
  },
  "language_info": {
   "codemirror_mode": {
    "name": "ipython",
    "version": 3
   },
   "file_extension": ".py",
   "mimetype": "text/x-python",
   "name": "python",
   "nbconvert_exporter": "python",
   "pygments_lexer": "ipython3",
   "version": "3.5.1"
  }
 },
 "nbformat": 4,
 "nbformat_minor": 2
}
